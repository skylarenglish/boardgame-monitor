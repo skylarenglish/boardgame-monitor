{
 "cells": [
  {
   "cell_type": "code",
   "execution_count": 103,
   "id": "6ae7f181-e527-4fc7-ac7f-7dbed7e91127",
   "metadata": {},
   "outputs": [],
   "source": [
    "import pandas as pd\n",
    "import sqlite3 as sql\n",
    "import datetime as dt\n",
    "import uuid\n",
    "import numpy as np\n",
    "import seaborn as sn"
   ]
  },
  {
   "cell_type": "markdown",
   "id": "be04ea1b-224b-4a35-b744-8c2d8c2cabf7",
   "metadata": {},
   "source": [
    "1. score metrics\n",
    "\n",
    "ERD\n",
    "game_dim\n",
    "game_reports\n",
    "player_dim\n",
    "game_rankings (game_uuid, player_id, rank)\n",
    "current_scores_view"
   ]
  },
  {
   "cell_type": "code",
   "execution_count": 114,
   "id": "84a40d44",
   "metadata": {},
   "outputs": [
    {
     "data": {
      "text/html": [
       "<div>\n",
       "<style scoped>\n",
       "    .dataframe tbody tr th:only-of-type {\n",
       "        vertical-align: middle;\n",
       "    }\n",
       "\n",
       "    .dataframe tbody tr th {\n",
       "        vertical-align: top;\n",
       "    }\n",
       "\n",
       "    .dataframe thead th {\n",
       "        text-align: right;\n",
       "    }\n",
       "</style>\n",
       "<table border=\"1\" class=\"dataframe\">\n",
       "  <thead>\n",
       "    <tr style=\"text-align: right;\">\n",
       "      <th></th>\n",
       "      <th>game_played</th>\n",
       "      <th>players</th>\n",
       "      <th>game_start</th>\n",
       "      <th>game_end</th>\n",
       "      <th>player_count</th>\n",
       "      <th>game_length</th>\n",
       "      <th>game_length_minutes</th>\n",
       "      <th>place</th>\n",
       "      <th>score</th>\n",
       "    </tr>\n",
       "  </thead>\n",
       "  <tbody>\n",
       "    <tr>\n",
       "      <th>0</th>\n",
       "      <td>Dune Imperium</td>\n",
       "      <td>Les</td>\n",
       "      <td>2022-10-06 13:00:00</td>\n",
       "      <td>2022-10-06 15:25:00</td>\n",
       "      <td>4</td>\n",
       "      <td>0 days 02:25:00</td>\n",
       "      <td>145.0</td>\n",
       "      <td>1.0</td>\n",
       "      <td>145.0</td>\n",
       "    </tr>\n",
       "    <tr>\n",
       "      <th>0</th>\n",
       "      <td>Dune Imperium</td>\n",
       "      <td>Zack</td>\n",
       "      <td>2022-10-06 13:00:00</td>\n",
       "      <td>2022-10-06 15:25:00</td>\n",
       "      <td>4</td>\n",
       "      <td>0 days 02:25:00</td>\n",
       "      <td>145.0</td>\n",
       "      <td>2.0</td>\n",
       "      <td>121.0</td>\n",
       "    </tr>\n",
       "    <tr>\n",
       "      <th>0</th>\n",
       "      <td>Dune Imperium</td>\n",
       "      <td>Paul</td>\n",
       "      <td>2022-10-06 13:00:00</td>\n",
       "      <td>2022-10-06 15:25:00</td>\n",
       "      <td>4</td>\n",
       "      <td>0 days 02:25:00</td>\n",
       "      <td>145.0</td>\n",
       "      <td>3.0</td>\n",
       "      <td>97.0</td>\n",
       "    </tr>\n",
       "    <tr>\n",
       "      <th>0</th>\n",
       "      <td>Dune Imperium</td>\n",
       "      <td>Skylar</td>\n",
       "      <td>2022-10-06 13:00:00</td>\n",
       "      <td>2022-10-06 15:25:00</td>\n",
       "      <td>4</td>\n",
       "      <td>0 days 02:25:00</td>\n",
       "      <td>145.0</td>\n",
       "      <td>4.0</td>\n",
       "      <td>72.0</td>\n",
       "    </tr>\n",
       "    <tr>\n",
       "      <th>1</th>\n",
       "      <td>Revolution</td>\n",
       "      <td>Skylar</td>\n",
       "      <td>2022-10-06 10:00:00</td>\n",
       "      <td>2022-10-06 11:25:00</td>\n",
       "      <td>4</td>\n",
       "      <td>0 days 01:25:00</td>\n",
       "      <td>85.0</td>\n",
       "      <td>1.0</td>\n",
       "      <td>85.0</td>\n",
       "    </tr>\n",
       "    <tr>\n",
       "      <th>1</th>\n",
       "      <td>Revolution</td>\n",
       "      <td>Paul</td>\n",
       "      <td>2022-10-06 10:00:00</td>\n",
       "      <td>2022-10-06 11:25:00</td>\n",
       "      <td>4</td>\n",
       "      <td>0 days 01:25:00</td>\n",
       "      <td>85.0</td>\n",
       "      <td>2.0</td>\n",
       "      <td>71.0</td>\n",
       "    </tr>\n",
       "    <tr>\n",
       "      <th>1</th>\n",
       "      <td>Revolution</td>\n",
       "      <td>Les</td>\n",
       "      <td>2022-10-06 10:00:00</td>\n",
       "      <td>2022-10-06 11:25:00</td>\n",
       "      <td>4</td>\n",
       "      <td>0 days 01:25:00</td>\n",
       "      <td>85.0</td>\n",
       "      <td>3.0</td>\n",
       "      <td>57.0</td>\n",
       "    </tr>\n",
       "    <tr>\n",
       "      <th>1</th>\n",
       "      <td>Revolution</td>\n",
       "      <td>Zack</td>\n",
       "      <td>2022-10-06 10:00:00</td>\n",
       "      <td>2022-10-06 11:25:00</td>\n",
       "      <td>4</td>\n",
       "      <td>0 days 01:25:00</td>\n",
       "      <td>85.0</td>\n",
       "      <td>4.0</td>\n",
       "      <td>42.0</td>\n",
       "    </tr>\n",
       "  </tbody>\n",
       "</table>\n",
       "</div>"
      ],
      "text/plain": [
       "     game_played players          game_start            game_end  \\\n",
       "0  Dune Imperium     Les 2022-10-06 13:00:00 2022-10-06 15:25:00   \n",
       "0  Dune Imperium    Zack 2022-10-06 13:00:00 2022-10-06 15:25:00   \n",
       "0  Dune Imperium    Paul 2022-10-06 13:00:00 2022-10-06 15:25:00   \n",
       "0  Dune Imperium  Skylar 2022-10-06 13:00:00 2022-10-06 15:25:00   \n",
       "1     Revolution  Skylar 2022-10-06 10:00:00 2022-10-06 11:25:00   \n",
       "1     Revolution    Paul 2022-10-06 10:00:00 2022-10-06 11:25:00   \n",
       "1     Revolution     Les 2022-10-06 10:00:00 2022-10-06 11:25:00   \n",
       "1     Revolution    Zack 2022-10-06 10:00:00 2022-10-06 11:25:00   \n",
       "\n",
       "   player_count     game_length  game_length_minutes  place  score  \n",
       "0             4 0 days 02:25:00                145.0    1.0  145.0  \n",
       "0             4 0 days 02:25:00                145.0    2.0  121.0  \n",
       "0             4 0 days 02:25:00                145.0    3.0   97.0  \n",
       "0             4 0 days 02:25:00                145.0    4.0   72.0  \n",
       "1             4 0 days 01:25:00                 85.0    1.0   85.0  \n",
       "1             4 0 days 01:25:00                 85.0    2.0   71.0  \n",
       "1             4 0 days 01:25:00                 85.0    3.0   57.0  \n",
       "1             4 0 days 01:25:00                 85.0    4.0   42.0  "
      ]
     },
     "execution_count": 114,
     "metadata": {},
     "output_type": "execute_result"
    }
   ],
   "source": [
    "games_df = pd.read_csv('game_reports.csv', parse_dates=[2,3])\n",
    "games_df['players'] = games_df['players'].apply(lambda x: x.split(\" \"))\n",
    "games_df['player_count'] = games_df['players'].apply(lambda x: len(x))\n",
    "games_df['game_length'] = games_df['game_end'] - games_df['game_start']\n",
    "games_df['game_length_minutes'] = games_df['game_length'].dt.total_seconds()/60\n",
    "\n",
    "player_games_df = games_df.explode('players')\n",
    "player_games_df['place'] = player_games_df.groupby(['game_played', 'game_start'])['players'].expanding().count().values\n",
    "#t * (1+((1-p)/(2n-2))) where t = time, p = place order, and n = # of players\n",
    "t = player_games_df['game_length_minutes']\n",
    "p = player_games_df['place']\n",
    "n = player_games_df['player_count']\n",
    "player_games_df['score'] = np.round(t * (1+((1-p)/(2*n-2))))\n",
    "player_games_df\n"
   ]
  },
  {
   "cell_type": "code",
   "execution_count": 115,
   "id": "46ceb2a6",
   "metadata": {},
   "outputs": [
    {
     "data": {
      "image/png": "[encoded data removed]",
      "text/plain": [
       "<Figure size 432x288 with 1 Axes>"
      ]
     },
     "metadata": {
      "needs_background": "light"
     },
     "output_type": "display_data"
    }
   ],
   "source": [
    "ranking = player_games_df.groupby('players')['score'].sum().sort_values(ascending=False).plot(kind='bar')"
   ]
  },
  {
   "cell_type": "code",
   "execution_count": 5,
   "id": "50a27175-f32a-4d4f-a652-4887d88d2e87",
   "metadata": {},
   "outputs": [],
   "source": [
    "game = ('Dune Imperium', ('Les', 'Zack', 'Paul', 'Skylar'), '2022/12/1 13:00:00', '2022/12/1 15:25:00')\n",
    "game_uuid = str(uuid.uuid4())\n",
    "game_list = [(game_uuid, game[0], place, player, game[2], game[3]) for place, player in enumerate(game[1])]"
   ]
  },
  {
   "cell_type": "code",
   "execution_count": 6,
   "id": "aa6dcf51-6843-4b29-b338-5815c4159bc1",
   "metadata": {},
   "outputs": [
    {
     "data": {
      "text/html": [
       "<div>\n",
       "<style scoped>\n",
       "    .dataframe tbody tr th:only-of-type {\n",
       "        vertical-align: middle;\n",
       "    }\n",
       "\n",
       "    .dataframe tbody tr th {\n",
       "        vertical-align: top;\n",
       "    }\n",
       "\n",
       "    .dataframe thead th {\n",
       "        text-align: right;\n",
       "    }\n",
       "</style>\n",
       "<table border=\"1\" class=\"dataframe\">\n",
       "  <thead>\n",
       "    <tr style=\"text-align: right;\">\n",
       "      <th></th>\n",
       "      <th>game_id</th>\n",
       "      <th>game_played</th>\n",
       "      <th>player</th>\n",
       "      <th>place_order</th>\n",
       "      <th>game_start</th>\n",
       "      <th>game_end</th>\n",
       "    </tr>\n",
       "  </thead>\n",
       "  <tbody>\n",
       "    <tr>\n",
       "      <th>0</th>\n",
       "      <td>015cc072-417b-463f-b12f-b4147f3f02d4</td>\n",
       "      <td>Dune Imperium</td>\n",
       "      <td>0</td>\n",
       "      <td>Les</td>\n",
       "      <td>2022/12/1 13:00:00</td>\n",
       "      <td>2022/12/1 15:25:00</td>\n",
       "    </tr>\n",
       "    <tr>\n",
       "      <th>1</th>\n",
       "      <td>015cc072-417b-463f-b12f-b4147f3f02d4</td>\n",
       "      <td>Dune Imperium</td>\n",
       "      <td>1</td>\n",
       "      <td>Zack</td>\n",
       "      <td>2022/12/1 13:00:00</td>\n",
       "      <td>2022/12/1 15:25:00</td>\n",
       "    </tr>\n",
       "    <tr>\n",
       "      <th>2</th>\n",
       "      <td>015cc072-417b-463f-b12f-b4147f3f02d4</td>\n",
       "      <td>Dune Imperium</td>\n",
       "      <td>2</td>\n",
       "      <td>Paul</td>\n",
       "      <td>2022/12/1 13:00:00</td>\n",
       "      <td>2022/12/1 15:25:00</td>\n",
       "    </tr>\n",
       "    <tr>\n",
       "      <th>3</th>\n",
       "      <td>015cc072-417b-463f-b12f-b4147f3f02d4</td>\n",
       "      <td>Dune Imperium</td>\n",
       "      <td>3</td>\n",
       "      <td>Skylar</td>\n",
       "      <td>2022/12/1 13:00:00</td>\n",
       "      <td>2022/12/1 15:25:00</td>\n",
       "    </tr>\n",
       "  </tbody>\n",
       "</table>\n",
       "</div>"
      ],
      "text/plain": [
       "                                game_id    game_played  player place_order  \\\n",
       "0  015cc072-417b-463f-b12f-b4147f3f02d4  Dune Imperium       0         Les   \n",
       "1  015cc072-417b-463f-b12f-b4147f3f02d4  Dune Imperium       1        Zack   \n",
       "2  015cc072-417b-463f-b12f-b4147f3f02d4  Dune Imperium       2        Paul   \n",
       "3  015cc072-417b-463f-b12f-b4147f3f02d4  Dune Imperium       3      Skylar   \n",
       "\n",
       "           game_start            game_end  \n",
       "0  2022/12/1 13:00:00  2022/12/1 15:25:00  \n",
       "1  2022/12/1 13:00:00  2022/12/1 15:25:00  \n",
       "2  2022/12/1 13:00:00  2022/12/1 15:25:00  \n",
       "3  2022/12/1 13:00:00  2022/12/1 15:25:00  "
      ]
     },
     "execution_count": 6,
     "metadata": {},
     "output_type": "execute_result"
    }
   ],
   "source": [
    "pd.DataFrame(game_list, columns=['game_id', 'game_played', 'player', 'place_order', 'game_start', 'game_end'])"
   ]
  },
  {
   "cell_type": "code",
   "execution_count": 7,
   "id": "c77a5d66-d961-4736-bfc4-f76151b3eb82",
   "metadata": {},
   "outputs": [],
   "source": [
    "con = sql.connect(\"tutorial.db\")"
   ]
  },
  {
   "cell_type": "code",
   "execution_count": 8,
   "id": "d05b8c66-b663-4ac2-89dc-a4de015ebb86",
   "metadata": {},
   "outputs": [],
   "source": [
    "cur = con.cursor()"
   ]
  },
  {
   "cell_type": "code",
   "execution_count": 9,
   "id": "319f641f-c196-4ca0-ae41-193d9eac1d60",
   "metadata": {},
   "outputs": [
    {
     "ename": "OperationalError",
     "evalue": "table game_reports already exists",
     "output_type": "error",
     "traceback": [
      "\u001b[0;31m---------------------------------------------------------------------------\u001b[0m",
      "\u001b[0;31mOperationalError\u001b[0m                          Traceback (most recent call last)",
      "Input \u001b[0;32mIn [9]\u001b[0m, in \u001b[0;36m<cell line: 1>\u001b[0;34m()\u001b[0m\n\u001b[0;32m----> 1\u001b[0m \u001b[43mcur\u001b[49m\u001b[38;5;241;43m.\u001b[39;49m\u001b[43mexecute\u001b[49m\u001b[43m(\u001b[49m\u001b[38;5;124;43m\"\u001b[39;49m\u001b[38;5;124;43mCREATE TABLE game_reports(game_id, game_played, player, place_order, game_start, game_end)\u001b[39;49m\u001b[38;5;124;43m\"\u001b[39;49m\u001b[43m)\u001b[49m\n",
      "\u001b[0;31mOperationalError\u001b[0m: table game_reports already exists"
     ]
    }
   ],
   "source": [
    "cur.execute(\"CREATE TABLE game_reports(game_id, game_played, player, place_order, game_start, game_end)\")"
   ]
  },
  {
   "cell_type": "code",
   "execution_count": 10,
   "id": "e97adaf4-0b8f-41c1-86af-d230631367d9",
   "metadata": {},
   "outputs": [],
   "source": [
    "res = cur.execute(\"select * from sqlite_master\")"
   ]
  },
  {
   "cell_type": "code",
   "execution_count": 11,
   "id": "deda189d-e67a-45ac-92b6-bbc42b75b39e",
   "metadata": {},
   "outputs": [
    {
     "data": {
      "text/plain": [
       "[('table',\n",
       "  'game_reports',\n",
       "  'game_reports',\n",
       "  3,\n",
       "  'CREATE TABLE game_reports(game_id, game_played, player, place_order, game_start, game_end)')]"
      ]
     },
     "execution_count": 11,
     "metadata": {},
     "output_type": "execute_result"
    }
   ],
   "source": [
    "res.fetchall()"
   ]
  },
  {
   "cell_type": "code",
   "execution_count": 43,
   "id": "89b80207-6341-49aa-8078-81ad96f26915",
   "metadata": {},
   "outputs": [],
   "source": [
    "game1 = pd.DataFrame(game_list, columns=['game_id', 'game_played', 'player', 'place_order', 'game_start', 'game_end'])"
   ]
  },
  {
   "cell_type": "code",
   "execution_count": 52,
   "id": "2463953e-b20f-4e54-872d-e137e6f4b119",
   "metadata": {},
   "outputs": [
    {
     "data": {
      "text/plain": [
       "4"
      ]
     },
     "execution_count": 52,
     "metadata": {},
     "output_type": "execute_result"
    }
   ],
   "source": [
    "game1.to_sql('game_reports', con, if_exists='append', index=False, method='multi')"
   ]
  },
  {
   "cell_type": "code",
   "execution_count": 53,
   "id": "f92a6f01-9d4b-473e-91cc-480ba9add0fd",
   "metadata": {},
   "outputs": [
    {
     "data": {
      "text/plain": [
       "[('e17eb5f1-f941-455a-b21a-7a9fb06fce81',\n",
       "  'Dune Imperium',\n",
       "  0,\n",
       "  'Les',\n",
       "  '2022/12/1 13:00:00',\n",
       "  '2022/12/1 15:25:00'),\n",
       " ('e17eb5f1-f941-455a-b21a-7a9fb06fce81',\n",
       "  'Dune Imperium',\n",
       "  1,\n",
       "  'Zack',\n",
       "  '2022/12/1 13:00:00',\n",
       "  '2022/12/1 15:25:00'),\n",
       " ('e17eb5f1-f941-455a-b21a-7a9fb06fce81',\n",
       "  'Dune Imperium',\n",
       "  2,\n",
       "  'Paul',\n",
       "  '2022/12/1 13:00:00',\n",
       "  '2022/12/1 15:25:00'),\n",
       " ('e17eb5f1-f941-455a-b21a-7a9fb06fce81',\n",
       "  'Dune Imperium',\n",
       "  3,\n",
       "  'Skylar',\n",
       "  '2022/12/1 13:00:00',\n",
       "  '2022/12/1 15:25:00')]"
      ]
     },
     "execution_count": 53,
     "metadata": {},
     "output_type": "execute_result"
    }
   ],
   "source": [
    "res = cur.execute(\"select * from game_reports\")\n",
    "res.fetchall()"
   ]
  },
  {
   "cell_type": "code",
   "execution_count": null,
   "id": "8977d98a-5f50-4ea0-849d-d551e04b8ee9",
   "metadata": {},
   "outputs": [],
   "source": []
  },
  {
   "cell_type": "code",
   "execution_count": null,
   "id": "61c6540b-6003-4c3b-8ab7-31b85f11bb45",
   "metadata": {},
   "outputs": [],
   "source": []
  }
 ],
 "metadata": {
  "interpreter": {
   "hash": "2d65e4ab118289aaa985cb60c33b8258a7551d4a02467d8a41181e3b82f29394"
  },
  "kernelspec": {
   "display_name": "Python 3.9.7 ('base')",
   "language": "python",
   "name": "python3"
  },
  "language_info": {
   "codemirror_mode": {
    "name": "ipython",
    "version": 3
   },
   "file_extension": ".py",
   "mimetype": "text/x-python",
   "name": "python",
   "nbconvert_exporter": "python",
   "pygments_lexer": "ipython3",
   "version": "3.9.7"
  }
 },
 "nbformat": 4,
 "nbformat_minor": 5
}
